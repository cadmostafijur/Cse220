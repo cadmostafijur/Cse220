{
  "nbformat": 4,
  "nbformat_minor": 0,
  "metadata": {
    "colab": {
      "provenance": []
    },
    "kernelspec": {
      "name": "python3",
      "display_name": "Python 3"
    },
    "language_info": {
      "name": "python"
    }
  },
  "cells": [
    {
      "cell_type": "code",
      "execution_count": 9,
      "metadata": {
        "id": "v1CixKoEuxPZ",
        "colab": {
          "base_uri": "https://localhost:8080/"
        },
        "outputId": "c1545327-9902-4485-fd58-ee50ea699ff7"
      },
      "outputs": [
        {
          "output_type": "execute_result",
          "data": {
            "text/plain": [
              "9"
            ]
          },
          "metadata": {},
          "execution_count": 9
        }
      ],
      "source": [
        "def sumdigit(n):\n",
        "  if n<10:\n",
        "    return n\n",
        "  else:\n",
        "    return n%10+ sumdigit(n//10)\n",
        "sumdigit(126)\n"
      ]
    },
    {
      "cell_type": "code",
      "source": [
        "def count(arr,n=0):\n",
        "    if n==len(arr)-1:\n",
        "       return n+1\n",
        "    if arr[n]>arr[n+1]:\n",
        "        return n+1\n",
        "    return count(arr,n+1)\n",
        "#count([7, 9, 11, 12, 5, 6])\n",
        "count([15, 18, 2, 3, 6, 12])"
      ],
      "metadata": {
        "colab": {
          "base_uri": "https://localhost:8080/"
        },
        "id": "ns0qP7rI5Fjq",
        "outputId": "af23ca18-a9f4-4278-9e14-f15a456a8264"
      },
      "execution_count": null,
      "outputs": [
        {
          "output_type": "execute_result",
          "data": {
            "text/plain": [
              "2"
            ]
          },
          "metadata": {},
          "execution_count": 6
        }
      ]
    },
    {
      "cell_type": "code",
      "source": [
        "def find_rotation_count(arr, low, high):\n",
        "    if high < low:\n",
        "        return 0\n",
        "\n",
        "    if high == low:\n",
        "        return low\n",
        "\n",
        "    mid = low + (high - low) // 2\n",
        "\n",
        "    if mid < high and arr[mid + 1] < arr[mid]:\n",
        "        return mid + 1\n",
        "\n",
        "    if mid > low and arr[mid] < arr[mid - 1]:\n",
        "        return mid\n",
        "\n",
        "    if arr[high] > arr[mid]:\n",
        "        return find_rotation_count(arr, low, mid - 1)\n",
        "\n",
        "    return find_rotation_count(arr, mid + 1, high)\n",
        "\n",
        "# Example usage\n",
        "arr = [8, 9, 10, 1, 2, 3, 4, 5, 6, 7]\n",
        "rotation_count = find_rotation_count(arr, 0, len(arr) - 1)\n",
        "print(\"The array is rotated\", rotation_count, \"times.\")"
      ],
      "metadata": {
        "colab": {
          "base_uri": "https://localhost:8080/"
        },
        "id": "hPQv_YNLR25T",
        "outputId": "e29402b2-8450-4ebe-f82f-e99035043adc"
      },
      "execution_count": null,
      "outputs": [
        {
          "output_type": "stream",
          "name": "stdout",
          "text": [
            "The array is rotated 3 times.\n"
          ]
        }
      ]
    },
    {
      "cell_type": "code",
      "source": [
        "\n",
        "def find_rotation_count_recursive(arr, low, high):\n",
        "    if low > high:\n",
        "        return 0\n",
        "\n",
        "    mid = low + (high - low) // 2\n",
        "    prev = (mid + len(arr) - 1) % len(arr)\n",
        "    next_ = (mid + 1) % len(arr)\n",
        "\n",
        "    if arr[mid] <= arr[prev] and arr[mid] <= arr[next_]:\n",
        "        return mid\n",
        "\n",
        "    if arr[mid] <= arr[high]:\n",
        "        return find_rotation_count_recursive(arr, low, mid - 1)\n",
        "    elif arr[mid] >= arr[low]:\n",
        "        return find_rotation_count_recursive(arr, mid + 1, high)\n",
        "\n",
        "    return 0  # Default case\n",
        "\n",
        "# Test cases\n",
        "arr1 = [7, 9, 11, 12, 5, 6]\n",
        "print(find_rotation_count_recursive(arr1, 0, len(arr1) - 1))  # Output: 4\n",
        "\n",
        "arr2 = [15, 18, 2, 3, 6, 12]\n",
        "print(find_rotation_count_recursive(arr2, 0, len(arr2) - 1))  # Output: 2"
      ],
      "metadata": {
        "colab": {
          "base_uri": "https://localhost:8080/"
        },
        "id": "GXDWEj-CTv8v",
        "outputId": "232f4c4b-2b45-4b3d-89c0-06a5508100e6"
      },
      "execution_count": null,
      "outputs": [
        {
          "output_type": "stream",
          "name": "stdout",
          "text": [
            "3 4 5 6 7 1 2 "
          ]
        }
      ]
    },
    {
      "cell_type": "code",
      "source": [
        "\n",
        "\n",
        "\n",
        "\n",
        "\n",
        "\n",
        "\n",
        "\n",
        "#task-2\n",
        "def bunnyEars2(n):\n",
        "  if n==0:\n",
        "    return n\n",
        "  elif n%2==1:\n",
        "    return 2 + bunnyEars2(n-1)\n",
        "  else:\n",
        "    return 3 + bunnyEars2(n-1)"
      ],
      "metadata": {
        "id": "oyiCnSm7u4Si"
      },
      "execution_count": null,
      "outputs": []
    },
    {
      "cell_type": "code",
      "source": [
        "bunnyEars2(1)"
      ],
      "metadata": {
        "colab": {
          "base_uri": "https://localhost:8080/"
        },
        "id": "Slvso_FrLoyY",
        "outputId": "b11f8dcc-ee66-4193-fa67-3b9168371477"
      },
      "execution_count": null,
      "outputs": [
        {
          "output_type": "execute_result",
          "data": {
            "text/plain": [
              "2"
            ]
          },
          "metadata": {},
          "execution_count": 15
        }
      ]
    },
    {
      "cell_type": "code",
      "source": [
        "#task-3\n",
        "def count(n):\n",
        "  if n==0:\n",
        "    return n\n",
        "  elif n%10==7:\n",
        "    #print(n%10)\n",
        "    print(\"###\")\n",
        "    #print(count(n//10))\n",
        "    return 1+ count(n//10)\n",
        "  else:\n",
        "    return count(n//10)\n"
      ],
      "metadata": {
        "id": "2DNbIn6oLo-v"
      },
      "execution_count": null,
      "outputs": []
    },
    {
      "cell_type": "code",
      "source": [
        "count(717)"
      ],
      "metadata": {
        "colab": {
          "base_uri": "https://localhost:8080/"
        },
        "id": "39uH3__gLpC8",
        "outputId": "4af48599-5b56-4550-9893-3bb28be99ce9"
      },
      "execution_count": null,
      "outputs": [
        {
          "output_type": "stream",
          "name": "stdout",
          "text": [
            "###\n",
            "###\n"
          ]
        },
        {
          "output_type": "execute_result",
          "data": {
            "text/plain": [
              "2"
            ]
          },
          "metadata": {},
          "execution_count": 53
        }
      ]
    },
    {
      "cell_type": "code",
      "source": [
        "def countx(n):\n",
        "  count=0\n",
        "  if len(n)==0:\n",
        "    return 0\n",
        "  elif n[0]=='x':\n",
        "    return 1+countx(n[1:])\n",
        "  else:\n",
        "    return countx(n[1:])\n"
      ],
      "metadata": {
        "id": "cQAzZCk6OXjR"
      },
      "execution_count": null,
      "outputs": []
    },
    {
      "cell_type": "code",
      "source": [
        "countx(\"xhixhix\")\n",
        "countx(\"xxhixx\")"
      ],
      "metadata": {
        "colab": {
          "base_uri": "https://localhost:8080/"
        },
        "id": "rUE5zslORnFD",
        "outputId": "825edea9-441e-4ae0-c2f0-a232bac87042"
      },
      "execution_count": null,
      "outputs": [
        {
          "output_type": "execute_result",
          "data": {
            "text/plain": [
              "4"
            ]
          },
          "metadata": {},
          "execution_count": 4
        }
      ]
    },
    {
      "cell_type": "code",
      "source": [
        "#task5\n",
        "def changePi(s):\n",
        "    if len(s) <= 1:\n",
        "        return s\n",
        "    if s[:2] == \"pi\":\n",
        "        return \"3.14\" + changePi(s[2:])\n",
        "    return s[0] + changePi(s[1:])\n",
        "\n",
        "changePi(\"xpiix\")"
      ],
      "metadata": {
        "id": "_yF0lISlRnKk",
        "outputId": "8071f5a1-7b97-466a-f885-445ad720f380",
        "colab": {
          "base_uri": "https://localhost:8080/",
          "height": 36
        }
      },
      "execution_count": null,
      "outputs": [
        {
          "output_type": "execute_result",
          "data": {
            "text/plain": [
              "'x3.14ix'"
            ],
            "application/vnd.google.colaboratory.intrinsic+json": {
              "type": "string"
            }
          },
          "metadata": {},
          "execution_count": 12
        }
      ]
    },
    {
      "cell_type": "code",
      "source": [
        "#task6\n",
        "def array11(nums, index):\n",
        "    if index >= len(nums):\n",
        "        return 0\n",
        "\n",
        "    if nums[index] == 11:\n",
        "        return 1 + array11(nums, index + 1)\n",
        "    else:\n",
        "        return array11(nums, index + 1)\n",
        "array11([1, 2, 11], 0)"
      ],
      "metadata": {
        "id": "YcbIML8gRnN9",
        "colab": {
          "base_uri": "https://localhost:8080/"
        },
        "outputId": "361fbe42-6914-4500-d2c5-e19112b62ac4"
      },
      "execution_count": null,
      "outputs": [
        {
          "output_type": "execute_result",
          "data": {
            "text/plain": [
              "1"
            ]
          },
          "metadata": {},
          "execution_count": 13
        }
      ]
    },
    {
      "cell_type": "code",
      "source": [
        "#task7\n",
        "def pairStar(s):\n",
        "    if len(s) <= 1:\n",
        "        return s\n",
        "\n",
        "    if s[0] == s[1]:\n",
        "        return s[0] + '*' + pairStar(s[1:])\n",
        "    else:\n",
        "        return s[0] + pairStar(s[1:])\n",
        "\n",
        "# Test cases\n",
        "print(pairStar(\"hello\"))  # Output: \"hel*lo\"\n",
        "print(pairStar(\"xxyy\"))   # Output: \"x*xy*y\"\n",
        "print(pairStar(\"aaaa\"))   # Output: \"a*a*a*a\"\n"
      ],
      "metadata": {
        "colab": {
          "base_uri": "https://localhost:8080/"
        },
        "id": "8MKV7aDmxMPJ",
        "outputId": "469d52c3-845d-4e5a-e3e7-0bb2044d1bd7"
      },
      "execution_count": null,
      "outputs": [
        {
          "output_type": "stream",
          "name": "stdout",
          "text": [
            "hel*lo\n",
            "x*xy*y\n",
            "a*a*a*a\n"
          ]
        }
      ]
    },
    {
      "cell_type": "code",
      "source": [
        "#task8\n",
        "def countAbc(s):\n",
        "    if len(s) < 3:\n",
        "        return 0\n",
        "\n",
        "    if s[:3] == \"abc\" or s[:3] == \"aba\":\n",
        "        return 1 + countAbc(s[1:])\n",
        "    else:\n",
        "        return countAbc(s[1:])\n",
        "\n",
        "# Test cases\n",
        "print(countAbc(\"abc\"))       # Output: 1\n",
        "print(countAbc(\"abcxxabc\"))  # Output: 2\n",
        "print(countAbc(\"abaxxaba\"))  # Output: 2\n"
      ],
      "metadata": {
        "colab": {
          "base_uri": "https://localhost:8080/"
        },
        "id": "ZvnWwfMqxMTY",
        "outputId": "3de606ab-fb67-4a76-9ab1-5a1741b81969"
      },
      "execution_count": null,
      "outputs": [
        {
          "output_type": "stream",
          "name": "stdout",
          "text": [
            "1\n",
            "2\n",
            "2\n"
          ]
        }
      ]
    },
    {
      "cell_type": "code",
      "source": [
        "#task9\n",
        "def countHi2(s):\n",
        "    if len(s) < 2:\n",
        "        return 0\n",
        "\n",
        "    if s[-2:] == \"hi\" and (len(s) == 2 or s[-3] != 'x'):\n",
        "        return 1 + countHi2(s[:-1])\n",
        "    else:\n",
        "        return countHi2(s[:-1])\n",
        "\n",
        "# Test cases\n",
        "print(countHi2(\"ahixhi\"))  # Output: 1\n",
        "print(countHi2(\"ahibhi\"))  # Output: 2\n",
        "print(countHi2(\"xhixhi\"))  # Output: 0\n"
      ],
      "metadata": {
        "colab": {
          "base_uri": "https://localhost:8080/"
        },
        "id": "uezcUfiExMXO",
        "outputId": "9414b538-0471-41f5-e429-604885c80406"
      },
      "execution_count": null,
      "outputs": [
        {
          "output_type": "stream",
          "name": "stdout",
          "text": [
            "1\n",
            "2\n",
            "0\n"
          ]
        }
      ]
    },
    {
      "cell_type": "code",
      "source": [
        "#task10\n",
        "def strCount(s, sub):\n",
        "    if len(s) < len(sub):\n",
        "        return 0\n",
        "\n",
        "    if s[:len(sub)] == sub:\n",
        "        return 1 + strCount(s[len(sub):], sub)\n",
        "    else:\n",
        "        return strCount(s[1:], sub)\n",
        "\n",
        "# Test cases\n",
        "print(strCount(\"catcowcat\", \"cat\"))  # Output: 2\n",
        "print(strCount(\"catcowcat\", \"cow\"))  # Output: 1\n",
        "print(strCount(\"catcowcat\", \"dog\"))  # Output: 0\n"
      ],
      "metadata": {
        "colab": {
          "base_uri": "https://localhost:8080/"
        },
        "id": "ILlfMWQAxMav",
        "outputId": "a7e9621b-cbb2-4580-c70a-d6a331a67db5"
      },
      "execution_count": null,
      "outputs": [
        {
          "output_type": "stream",
          "name": "stdout",
          "text": [
            "2\n",
            "1\n",
            "0\n"
          ]
        }
      ]
    },
    {
      "cell_type": "code",
      "source": [
        "#task11\n",
        "def bunnyEars(n):\n",
        "    if n == 0:\n",
        "        return 0\n",
        "\n",
        "    return 2 + bunnyEars(n - 1)\n",
        "\n",
        "# Test cases\n",
        "print(bunnyEars(0))  # Output: 0\n",
        "print(bunnyEars(1))  # Output: 2\n",
        "print(bunnyEars(2))  # Output: 4\n"
      ],
      "metadata": {
        "colab": {
          "base_uri": "https://localhost:8080/"
        },
        "id": "DKJ0THSKxMeQ",
        "outputId": "4e1cc5e8-fde2-4c58-8b9e-c60095523b06"
      },
      "execution_count": null,
      "outputs": [
        {
          "output_type": "stream",
          "name": "stdout",
          "text": [
            "0\n",
            "2\n",
            "4\n"
          ]
        }
      ]
    },
    {
      "cell_type": "code",
      "source": [
        "#task12\n",
        "def triangle(rows):\n",
        "    if rows == 0:\n",
        "        return 0\n",
        "\n",
        "    return rows + triangle(rows - 1)\n",
        "\n",
        "# Test cases\n",
        "print(triangle(0))  # Output: 0\n",
        "print(triangle(1))  # Output: 1\n",
        "print(triangle(2))  # Output: 3\n"
      ],
      "metadata": {
        "colab": {
          "base_uri": "https://localhost:8080/"
        },
        "id": "CbmHEzRnxMh2",
        "outputId": "1eb493ff-be44-4c09-bae6-96317123e4f1"
      },
      "execution_count": null,
      "outputs": [
        {
          "output_type": "stream",
          "name": "stdout",
          "text": [
            "0\n",
            "1\n",
            "3\n"
          ]
        }
      ]
    },
    {
      "cell_type": "code",
      "source": [
        "#task13\n",
        "def noX(s):\n",
        "    if len(s) == 0:\n",
        "        return \"\"\n",
        "\n",
        "    if s[0] == 'x':\n",
        "        return noX(s[1:])\n",
        "    else:\n",
        "        return s[0] + noX(s[1:])\n",
        "\n",
        "# Test cases\n",
        "print(noX(\"xaxb\"))  # Output: \"ab\"\n",
        "print(noX(\"abc\"))   # Output: \"abc\"\n",
        "print(noX(\"xx\"))    # Output: \"\"\n"
      ],
      "metadata": {
        "colab": {
          "base_uri": "https://localhost:8080/"
        },
        "id": "0SzMBh9cxMlA",
        "outputId": "4d0685f6-ba55-4260-cbf8-e7a00ca1e87e"
      },
      "execution_count": null,
      "outputs": [
        {
          "output_type": "stream",
          "name": "stdout",
          "text": [
            "ab\n",
            "abc\n",
            "\n"
          ]
        }
      ]
    },
    {
      "cell_type": "code",
      "source": [
        "#task14\n",
        "def array220(nums, index):\n",
        "    if index >= len(nums) - 1:\n",
        "        return False\n",
        "\n",
        "    if nums[index] * 10 == nums[index + 1]:\n",
        "        return True\n",
        "    else:\n",
        "        return array220(nums, index + 1)\n",
        "\n",
        "# Test cases\n",
        "print(array220([1, 2, 20], 0))  # Output: True\n",
        "print(array220([3, 30], 0))     # Output: True\n",
        "print(array220([3], 0))         # Output: False\n"
      ],
      "metadata": {
        "colab": {
          "base_uri": "https://localhost:8080/"
        },
        "id": "Cus4M2FaxMsq",
        "outputId": "e0c47651-2d1f-4a83-ea45-da68551ddc37"
      },
      "execution_count": null,
      "outputs": [
        {
          "output_type": "stream",
          "name": "stdout",
          "text": [
            "True\n",
            "True\n",
            "False\n"
          ]
        }
      ]
    },
    {
      "cell_type": "code",
      "source": [
        "#task15\n",
        "def endX(s):\n",
        "    if len(s) == 0:\n",
        "        return \"\"\n",
        "\n",
        "    if s[0] == 'x':\n",
        "        return endX(s[1:]) + 'x'\n",
        "    else:\n",
        "        return s[0] + endX(s[1:])\n",
        "\n",
        "# Test cases\n",
        "print(endX(\"xxre\"))   # Output: \"rexx\"\n",
        "print(endX(\"xxhixx\")) # Output: \"hixxxx\"\n",
        "print(endX(\"xhixhix\"))# Output: \"hihixxx\"\n"
      ],
      "metadata": {
        "colab": {
          "base_uri": "https://localhost:8080/"
        },
        "id": "vofsXj9tzGir",
        "outputId": "89911fe6-6ca0-41f6-8732-ffbfb8abcc6a"
      },
      "execution_count": null,
      "outputs": [
        {
          "output_type": "stream",
          "name": "stdout",
          "text": [
            "rexx\n",
            "hixxxx\n",
            "hihixxx\n"
          ]
        }
      ]
    },
    {
      "cell_type": "code",
      "source": [
        "#task16\n",
        "def count11(s):\n",
        "    if len(s) < 2:\n",
        "        return 0\n",
        "\n",
        "    if s[:2] == \"11\":\n",
        "        return 1 + count11(s[2:])\n",
        "    else:\n",
        "        return count11(s[1:])\n",
        "\n",
        "# Test cases\n",
        "print(count11(\"11abc11\"))     # Output: 2\n",
        "print(count11(\"abc11x11x11\")) # Output: 3\n",
        "print(count11(\"111\"))         # Output: 1\n"
      ],
      "metadata": {
        "colab": {
          "base_uri": "https://localhost:8080/"
        },
        "id": "gSMadlXGzGlo",
        "outputId": "cf633656-faa6-441f-ce2a-583e0daeea35"
      },
      "execution_count": null,
      "outputs": [
        {
          "output_type": "stream",
          "name": "stdout",
          "text": [
            "2\n",
            "3\n",
            "1\n"
          ]
        }
      ]
    },
    {
      "cell_type": "code",
      "source": [
        "#task17\n",
        "def parenBit(s):\n",
        "    if s[0] == '(':\n",
        "        if s[-1] == ')':\n",
        "            return s\n",
        "        else:\n",
        "            return parenBit(s[:-1])\n",
        "    else:\n",
        "        return parenBit(s[1:])\n",
        "\n",
        "# Test cases\n",
        "print(parenBit(\"xyz(abc)123\")) # Output: \"(abc)\"\n",
        "print(parenBit(\"x(hello)\"))    # Output: \"(hello)\"\n",
        "print(parenBit(\"(xy)1\"))       # Output: \"(xy)\"\n"
      ],
      "metadata": {
        "colab": {
          "base_uri": "https://localhost:8080/"
        },
        "id": "-Dur9YVFzGog",
        "outputId": "326af07d-98ab-4b88-fe98-d221c4425b7c"
      },
      "execution_count": null,
      "outputs": [
        {
          "output_type": "stream",
          "name": "stdout",
          "text": [
            "(abc)\n",
            "(hello)\n",
            "(xy)\n"
          ]
        }
      ]
    },
    {
      "cell_type": "code",
      "source": [
        "#task18\n",
        "def strCopies(s, sub, n):\n",
        "    if n == 0:\n",
        "        return True\n",
        "    if len(s) < len(sub):\n",
        "        return False\n",
        "\n",
        "    if s[:len(sub)] == sub:\n",
        "        return strCopies(s[1:], sub, n - 1)\n",
        "    else:\n",
        "        return strCopies(s[1:], sub, n)\n",
        "\n",
        "# Test cases\n",
        "print(strCopies(\"catcowcat\", \"cat\", 2)) # Output: True\n",
        "print(strCopies(\"catcowcat\", \"cow\", 2)) # Output: False\n",
        "print(strCopies(\"catcowcat\", \"cow\", 1)) # Output: True\n"
      ],
      "metadata": {
        "colab": {
          "base_uri": "https://localhost:8080/"
        },
        "id": "7S_IDeRPzGrX",
        "outputId": "e11b6eee-e167-490e-fa7b-33c7575f97fa"
      },
      "execution_count": null,
      "outputs": [
        {
          "output_type": "stream",
          "name": "stdout",
          "text": [
            "True\n",
            "False\n",
            "True\n"
          ]
        }
      ]
    },
    {
      "cell_type": "code",
      "source": [
        "#task19\n",
        "def changeXY(s):\n",
        "    if len(s) == 0:\n",
        "        return \"\"\n",
        "\n",
        "    if s[0] == 'x':\n",
        "        return 'y' + changeXY(s[1:])\n",
        "    else:\n",
        "        return s[0] + changeXY(s[1:])\n",
        "\n",
        "# Test cases\n",
        "print(changeXY(\"codex\"))  # Output: \"codey\"\n",
        "print(changeXY(\"xxhixx\")) # Output: \"yyhiyy\"\n",
        "print(changeXY(\"xhixhix\"))# Output: \"yhiyhiy\"\n"
      ],
      "metadata": {
        "colab": {
          "base_uri": "https://localhost:8080/"
        },
        "id": "Y95RGnMVzGuE",
        "outputId": "5092d27d-acb8-4481-e102-a129b4f0531f"
      },
      "execution_count": null,
      "outputs": [
        {
          "output_type": "stream",
          "name": "stdout",
          "text": [
            "codey\n",
            "yyhiyy\n",
            "yhiyhiy\n"
          ]
        }
      ]
    },
    {
      "cell_type": "code",
      "source": [
        "#task20\n",
        "def array6(nums, index):\n",
        "    if index >= len(nums):\n",
        "        return False\n",
        "\n",
        "    if nums[index] == 6:\n",
        "        return True\n",
        "    else:\n",
        "        return array6(nums, index + 1)\n",
        "\n",
        "# Test cases\n",
        "print(array6([1, 6, 4], 0)) # Output: True\n",
        "print(array6([1, 4], 0))    # Output: False\n",
        "print(array6([6], 0))       # Output: True\n"
      ],
      "metadata": {
        "colab": {
          "base_uri": "https://localhost:8080/"
        },
        "id": "vEQDwBkQzGxF",
        "outputId": "a9257ee0-f581-4461-dc81-9498786195fa"
      },
      "execution_count": null,
      "outputs": [
        {
          "output_type": "stream",
          "name": "stdout",
          "text": [
            "True\n",
            "False\n",
            "True\n"
          ]
        }
      ]
    },
    {
      "cell_type": "code",
      "source": [
        "#task21\n",
        "def allStar(s):\n",
        "    if len(s) <= 1:\n",
        "        return s\n",
        "\n",
        "    return s[0] + '*' + allStar(s[1:])\n",
        "\n",
        "# Test cases\n",
        "print(allStar(\"hello\")) # Output: \"h*e*l*l*o\"\n",
        "print(allStar(\"abc\"))   # Output: \"a*b*c\"\n",
        "print(allStar(\"ab\"))    # Output: \"a*b\"\n"
      ],
      "metadata": {
        "colab": {
          "base_uri": "https://localhost:8080/"
        },
        "id": "BaDwvhXEzG0t",
        "outputId": "46258e1b-a36b-46f3-9038-9a95ed7d3b10"
      },
      "execution_count": null,
      "outputs": [
        {
          "output_type": "stream",
          "name": "stdout",
          "text": [
            "h*e*l*l*o\n",
            "a*b*c\n",
            "a*b\n"
          ]
        }
      ]
    },
    {
      "cell_type": "code",
      "source": [
        "#task22\n",
        "def countPairs(s):\n",
        "    if len(s) < 3:\n",
        "        return 0\n",
        "\n",
        "    if s[0] == s[2]:\n",
        "        return 1 + countPairs(s[1:])\n",
        "    else:\n",
        "        return countPairs(s[1:])\n",
        "\n",
        "# Test cases\n",
        "print(countPairs(\"axa\"))   # Output: 1\n",
        "print(countPairs(\"axax\"))  # Output: 2\n",
        "print(countPairs(\"axbx\"))  # Output: 1\n"
      ],
      "metadata": {
        "colab": {
          "base_uri": "https://localhost:8080/"
        },
        "id": "4M7loeMxzPT3",
        "outputId": "7ff28742-996f-4b10-883b-be7996de966b"
      },
      "execution_count": null,
      "outputs": [
        {
          "output_type": "stream",
          "name": "stdout",
          "text": [
            "1\n",
            "2\n",
            "1\n"
          ]
        }
      ]
    },
    {
      "cell_type": "code",
      "source": [
        "#task23\n",
        "def stringClean(s):\n",
        "    if len(s) <= 1:\n",
        "        return s\n",
        "\n",
        "    if s[0] == s[1]:\n",
        "        return stringClean(s[1:])\n",
        "    else:\n",
        "        return s[0] + stringClean(s[1:])\n",
        "\n",
        "# Test cases\n",
        "print(stringClean(\"yyzzza\")) # Output: \"yza\"\n",
        "print(stringClean(\"abbbcdd\")) # Output: \"abcd\"\n",
        "print(stringClean(\"Hello\"))   # Output: \"Helo\"\n"
      ],
      "metadata": {
        "colab": {
          "base_uri": "https://localhost:8080/"
        },
        "id": "isq_ZKCXzPW4",
        "outputId": "6ff0d717-046b-4982-c6a0-905fdf3b9659"
      },
      "execution_count": null,
      "outputs": [
        {
          "output_type": "stream",
          "name": "stdout",
          "text": [
            "yza\n",
            "abcd\n",
            "Helo\n"
          ]
        }
      ]
    },
    {
      "cell_type": "code",
      "source": [
        "#task24\n",
        "def nestParen(s):\n",
        "    if len(s) == 0:\n",
        "        return True\n",
        "\n",
        "    if s[0] == '(' and s[-1] == ')':\n",
        "        return nestParen(s[1:-1])\n",
        "    else:\n",
        "        return False\n",
        "\n",
        "# Test cases\n",
        "print(nestParen(\"(())\"))   # Output: True\n",
        "print(nestParen(\"((()))\")) # Output: True\n",
        "print(nestParen(\"(((x))\")) # Output: False\n"
      ],
      "metadata": {
        "colab": {
          "base_uri": "https://localhost:8080/"
        },
        "id": "LM1FVrkLzVuw",
        "outputId": "944eaf76-80ab-4666-9fce-c7450acf8b42"
      },
      "execution_count": null,
      "outputs": [
        {
          "output_type": "stream",
          "name": "stdout",
          "text": [
            "True\n",
            "True\n",
            "False\n"
          ]
        }
      ]
    },
    {
      "cell_type": "code",
      "source": [
        "#task25\n",
        "def strDist(s, sub):\n",
        "    if len(s) < len(sub):\n",
        "        return 0\n",
        "\n",
        "    if s[:len(sub)] == sub and s[-len(sub):] == sub:\n",
        "        return len(s)\n",
        "\n",
        "    if s[:len(sub)] != sub:\n",
        "        return strDist(s[1:], sub)\n",
        "    else:\n",
        "        return strDist(s[:-1], sub)\n",
        "\n",
        "# Test cases\n",
        "print(strDist(\"catcowcat\", \"cat\")) # Output: 9\n",
        "print(strDist(\"catcowcat\", \"cow\")) # Output: 3\n",
        "print(strDist(\"cccatcowcatxx\", \"cat\")) # Output: 9\n"
      ],
      "metadata": {
        "colab": {
          "base_uri": "https://localhost:8080/"
        },
        "id": "9r4FCO8fzV0n",
        "outputId": "d68ec923-d431-4b00-c777-0ddd67864ef9"
      },
      "execution_count": null,
      "outputs": [
        {
          "output_type": "stream",
          "name": "stdout",
          "text": [
            "9\n",
            "3\n",
            "9\n"
          ]
        }
      ]
    },
    {
      "cell_type": "code",
      "source": [
        "#task26\n",
        "def groupSum(start, nums, target):\n",
        "    if start >= len(nums):\n",
        "        return target == 0\n",
        "\n",
        "    if groupSum(start + 1, nums, target - nums[start]):\n",
        "        return True\n",
        "\n",
        "    if groupSum(start + 1, nums, target):\n",
        "        return True\n",
        "\n",
        "    return False\n",
        "\n",
        "# Test cases\n",
        "print(groupSum(0, [2, 4, 8], 10)) # Output: True\n",
        "print(groupSum(0, [2, 4, 8], 14)) # Output: True\n",
        "print(groupSum(0, [2, 4, 8], 9))  # Output: False\n"
      ],
      "metadata": {
        "colab": {
          "base_uri": "https://localhost:8080/"
        },
        "id": "Sn_Qhu2kzV4p",
        "outputId": "f622cc7e-be7c-4fac-9f69-8b078d7d34a9"
      },
      "execution_count": null,
      "outputs": [
        {
          "output_type": "stream",
          "name": "stdout",
          "text": [
            "True\n",
            "True\n",
            "False\n"
          ]
        }
      ]
    },
    {
      "cell_type": "code",
      "source": [
        "#task27\n",
        "def splitArray(nums):\n",
        "    return splitArrayHelper(0, nums, 0, 0)\n",
        "\n",
        "def splitArrayHelper(start, nums, group1, group2):\n",
        "    if start >= len(nums):\n",
        "        return group1 == group2\n",
        "\n",
        "    if splitArrayHelper(start + 1, nums, group1 + nums[start], group2):\n",
        "        return True\n",
        "\n",
        "    if splitArrayHelper(start + 1, nums, group1, group2 + nums[start]):\n",
        "        return True\n",
        "\n",
        "    return False\n",
        "\n",
        "# Test cases\n",
        "print(splitArray([2, 2]))        # Output: True\n",
        "print(splitArray([2, 3]))        # Output: False\n",
        "print(splitArray([5, 2, 3]))     # Output: True\n"
      ],
      "metadata": {
        "colab": {
          "base_uri": "https://localhost:8080/"
        },
        "id": "-UKunh6jzV8Q",
        "outputId": "48a6f722-49cc-4408-fbca-97dcf44b07d0"
      },
      "execution_count": null,
      "outputs": [
        {
          "output_type": "stream",
          "name": "stdout",
          "text": [
            "True\n",
            "False\n",
            "True\n"
          ]
        }
      ]
    },
    {
      "cell_type": "code",
      "source": [
        "#task28\n",
        "def splitOdd10(nums):\n",
        "    return splitOdd10Helper(0, nums, 0, 0)\n",
        "\n",
        "def splitOdd10Helper(start, nums, group1, group2):\n",
        "    if start >= len(nums):\n",
        "        return (group1 % 10 == 0 and group2 % 2 == 1) or (group1 % 2 == 1 and group2 % 10 == 0)\n",
        "\n",
        "    if splitOdd10Helper(start + 1, nums, group1 + nums[start], group2):\n",
        "        return True\n",
        "\n",
        "    if splitOdd10Helper(start + 1, nums, group1, group2 + nums[start]):\n",
        "        return True\n",
        "\n",
        "    return False\n",
        "\n",
        "# Test cases\n",
        "print(splitOdd10([5, 5, 5]))     # Output: True\n",
        "print(splitOdd10([5, 5, 6]))     # Output: False\n",
        "print(splitOdd10([5, 5, 6, 1]))  # Output: True\n"
      ],
      "metadata": {
        "colab": {
          "base_uri": "https://localhost:8080/"
        },
        "id": "51rn-Bb3zWCS",
        "outputId": "5de1d6a9-7d55-4493-9880-b38a5a63553b"
      },
      "execution_count": null,
      "outputs": [
        {
          "output_type": "stream",
          "name": "stdout",
          "text": [
            "True\n",
            "False\n",
            "True\n"
          ]
        }
      ]
    },
    {
      "cell_type": "code",
      "source": [
        "#task29\n",
        "def split53(nums):\n",
        "    return split53Helper(0, nums, 0, 0)\n",
        "\n",
        "def split53Helper(start, nums, group1, group2):\n",
        "    if start >= len(nums):\n",
        "        return group1 == group2\n",
        "\n",
        "    if nums[start] % 5 == 0:\n",
        "        return split53Helper(start + 1, nums, group1 + nums[start], group2)\n",
        "\n",
        "    if nums[start] % 3 == 0:\n",
        "        return split53Helper(start + 1, nums, group1, group2 + nums[start])\n",
        "\n",
        "    if split53Helper(start + 1, nums, group1 + nums[start], group2):\n",
        "        return True\n",
        "\n",
        "    if split53Helper(start + 1, nums, group1, group2 + nums[start]):\n",
        "        return True\n",
        "\n",
        "    return False\n",
        "\n",
        "# Test cases\n",
        "print(split53([1, 1]))      # Output: True\n",
        "print(split53([1, 1, 1]))   # Output: False\n",
        "print(split53([2, 4, 2]))   # Output: True\n"
      ],
      "metadata": {
        "colab": {
          "base_uri": "https://localhost:8080/"
        },
        "id": "qOEhjWTizWLW",
        "outputId": "37681226-85cd-4a37-cd35-270d573ad8da"
      },
      "execution_count": null,
      "outputs": [
        {
          "output_type": "stream",
          "name": "stdout",
          "text": [
            "True\n",
            "False\n",
            "True\n"
          ]
        }
      ]
    },
    {
      "cell_type": "code",
      "source": [
        "#task30\n",
        "def groupSum5(start, nums, target):\n",
        "    if start >= len(nums):\n",
        "        return target == 0\n",
        "\n",
        "    if nums[start] % 5 == 0:\n",
        "        if start < len(nums) - 1 and nums[start + 1] == 1:\n",
        "            return groupSum5(start + 2, nums, target - nums[start])\n",
        "        return groupSum5(start + 1, nums, target - nums[start])\n",
        "\n",
        "    if groupSum5(start + 1, nums, target - nums[start]):\n",
        "        return True\n",
        "\n",
        "    if groupSum5(start + 1, nums, target):\n",
        "        return True\n",
        "\n",
        "    return False\n",
        "\n",
        "# Test cases\n",
        "print(groupSum5(0, [2, 5, 10, 4], 19)) # Output: True\n",
        "print(groupSum5(0, [2, 5, 10, 4], 17)) # Output: True\n",
        "print(groupSum5(0, [2, 5, 10, 4], 12)) # Output: False\n"
      ],
      "metadata": {
        "colab": {
          "base_uri": "https://localhost:8080/"
        },
        "id": "FMIW6u3RzWQV",
        "outputId": "3cae8c2d-54b1-489a-8d8f-4c1940a0cb8a"
      },
      "execution_count": null,
      "outputs": [
        {
          "output_type": "stream",
          "name": "stdout",
          "text": [
            "True\n",
            "True\n",
            "False\n"
          ]
        }
      ]
    }
  ]
}