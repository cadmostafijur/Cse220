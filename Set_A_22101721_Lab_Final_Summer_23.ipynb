{
  "nbformat": 4,
  "nbformat_minor": 0,
  "metadata": {
    "colab": {
      "provenance": []
    },
    "kernelspec": {
      "name": "python3",
      "display_name": "Python 3"
    },
    "language_info": {
      "name": "python"
    }
  },
  "cells": [
    {
      "cell_type": "code",
      "execution_count": null,
      "metadata": {
        "id": "UCWOy5YmkRGC"
      },
      "outputs": [],
      "source": [
        "class Node:\n",
        "    def __init__(self, elem, next=None):\n",
        "        self.elem, self.next = elem, next"
      ]
    },
    {
      "cell_type": "code",
      "source": [
        "def check_palindrome(word):\n",
        "  return word == word[::-1]\n",
        "\n",
        "words = ['deified', 'nested', 'racecar', 'rabbit', 'glossy', 'level', 'discrete', 'kayak', 'stats']\n",
        "print([check_palindrome(word) for word in words])\n",
        "\n",
        "'''This should print\n",
        "[True, False, True, False, False, True, False, True, True]'''"
      ],
      "metadata": {
        "id": "i7nsBbYbkiE7",
        "colab": {
          "base_uri": "https://localhost:8080/",
          "height": 53
        },
        "outputId": "8cac3f23-f8bb-493e-c651-1c480ae9577d"
      },
      "execution_count": null,
      "outputs": [
        {
          "output_type": "stream",
          "name": "stdout",
          "text": [
            "[True, False, True, False, False, True, False, True, True]\n"
          ]
        },
        {
          "output_type": "execute_result",
          "data": {
            "text/plain": [
              "'This should print\\n[True, False, True, False, False, True, False, True, True]'"
            ],
            "application/vnd.google.colaboratory.intrinsic+json": {
              "type": "string"
            }
          },
          "metadata": {},
          "execution_count": 28
        }
      ]
    },
    {
      "cell_type": "code",
      "source": [
        "class HashTable:\n",
        "    def __init__(self, size):\n",
        "        self.size=size\n",
        "        self.ht = [None]*size\n",
        "\n",
        "    def hash_function(self, word):\n",
        "      tot=0\n",
        "      for i in word:\n",
        "        tot +=ord(i)\n",
        "      return tot% self.size\n",
        "\n",
        "    def add(self, word):\n",
        "        idx=self.hash_function(word)\n",
        "        if self.ht[idx] is None:\n",
        "          self.ht[idx]=Node(word)\n",
        "        else:\n",
        "          curr=self.ht[idx]\n",
        "          while curr.next != None:\n",
        "            curr=curr.next\n",
        "          curr.next=Node(word)\n",
        "    def print_hashtable(self):\n",
        "        for idx, node in enumerate(self.ht):\n",
        "            print(f'{idx}: ', end=\" \")\n",
        "            while node is not None:\n",
        "                print(f'{node.elem}', end=\"->\")\n",
        "                node = node.next\n",
        "            print(None)\n",
        "#driver code; do not edit this block\n",
        "#creating hashtable\n",
        "words = ['deified', 'nested', 'racecar', 'rabbit', 'glossy', 'level', 'discrete', 'kayak', 'stats']\n",
        "hash_table = HashTable(len(words))\n",
        "\n",
        "for word in words:\n",
        "    hash_table.add(word)\n",
        "\n",
        "hash_table.print_hashtable()\n",
        "\n",
        "'''This should print\n",
        "0:  None\n",
        "1:  racecar->None\n",
        "2:  None\n",
        "3:  deified->None\n",
        "4:  kayak->nested->None\n",
        "5:  discrete->None\n",
        "6:  None\n",
        "7:  stats->glossy->rabbit->None\n",
        "8:  level->None\n",
        "'''\n"
      ],
      "metadata": {
        "id": "jIf12cg1kkrU",
        "colab": {
          "base_uri": "https://localhost:8080/",
          "height": 209
        },
        "outputId": "08ce905f-8723-4e9f-f1d5-de4979f7147e"
      },
      "execution_count": null,
      "outputs": [
        {
          "output_type": "stream",
          "name": "stdout",
          "text": [
            "0:  None\n",
            "1:  racecar->stats->None\n",
            "2:  None\n",
            "3:  deified->None\n",
            "4:  nested->None\n",
            "5:  level->discrete->None\n",
            "6:  None\n",
            "7:  rabbit->glossy->kayak->None\n",
            "8:  None\n"
          ]
        },
        {
          "output_type": "execute_result",
          "data": {
            "text/plain": [
              "'This should print\\n0:  None\\n1:  racecar->None\\n2:  None\\n3:  deified->None\\n4:  kayak->nested->None\\n5:  discrete->None\\n6:  None\\n7:  stats->glossy->rabbit->None\\n8:  level->None\\n'"
            ],
            "application/vnd.google.colaboratory.intrinsic+json": {
              "type": "string"
            }
          },
          "metadata": {},
          "execution_count": 29
        }
      ]
    },
    {
      "cell_type": "code",
      "source": [
        "#driver code; do not edit this block\n",
        "#creating hashtable\n",
        "words = ['deified', 'nested', 'racecar', 'rabbit', 'glossy', 'level', 'discrete', 'kayak', 'stats']\n",
        "hash_table = HashTable(len(words))\n",
        "\n",
        "for word in words:\n",
        "    hash_table.add(word)\n",
        "\n",
        "hash_table.print_hashtable()\n",
        "\n",
        "\n",
        "'''0:  None\n",
        "1:  racecar->stats->None\n",
        "2:  None\n",
        "3:  deified->None\n",
        "4:  nested->None\n",
        "5:  level->discrete->None\n",
        "6:  None\n",
        "7:  rabbit->glossy->kayak->None\n",
        "8:  None'''"
      ],
      "metadata": {
        "id": "8fNaw0Zdnroy",
        "colab": {
          "base_uri": "https://localhost:8080/",
          "height": 209
        },
        "outputId": "8930f8fe-3530-4fae-ebc8-24b6b2036a7a"
      },
      "execution_count": null,
      "outputs": [
        {
          "output_type": "stream",
          "name": "stdout",
          "text": [
            "0:  None\n",
            "1:  racecar->stats->None\n",
            "2:  None\n",
            "3:  deified->None\n",
            "4:  nested->None\n",
            "5:  level->discrete->None\n",
            "6:  None\n",
            "7:  rabbit->glossy->kayak->None\n",
            "8:  None\n"
          ]
        },
        {
          "output_type": "execute_result",
          "data": {
            "text/plain": [
              "'0:  None\\n1:  racecar->stats->None\\n2:  None\\n3:  deified->None\\n4:  nested->None\\n5:  level->discrete->None\\n6:  None\\n7:  rabbit->glossy->kayak->None\\n8:  None'"
            ],
            "application/vnd.google.colaboratory.intrinsic+json": {
              "type": "string"
            }
          },
          "metadata": {},
          "execution_count": 30
        }
      ]
    }
  ]
}